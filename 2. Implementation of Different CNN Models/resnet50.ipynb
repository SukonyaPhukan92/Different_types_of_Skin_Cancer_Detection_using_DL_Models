{
  "cells": [
    {
      "cell_type": "code",
      "execution_count": null,
      "metadata": {
        "id": "_4fut4282CVn"
      },
      "outputs": [],
      "source": [
        "import tensorflow as tf\n",
        "import numpy as np\n",
        "import os\n",
        "from tensorflow.keras.models import load_model, Sequential, Model\n",
        "from tensorflow.keras.applications import ResNet50\n",
        "from tensorflow.keras.layers import Dense, Conv2D, BatchNormalization, Dropout, Flatten, Activation\n",
        "from tensorflow.keras.preprocessing.image import ImageDataGenerator\n",
        "from tensorflow.keras.callbacks import EarlyStopping, ReduceLROnPlateau, LearningRateScheduler, ModelCheckpoint\n",
        "from tensorflow.keras.preprocessing.image import load_img, img_to_array\n",
        "from glob import glob\n",
        "import matplotlib.pyplot as plt\n",
        "%matplotlib inline"
      ]
    },
    {
      "cell_type": "code",
      "execution_count": null,
      "metadata": {
        "colab": {
          "base_uri": "https://localhost:8080/"
        },
        "id": "7XEhyFjWMsKR",
        "outputId": "d0f1c235-aa9a-4237-991a-d6e74ff04624"
      },
      "outputs": [
        {
          "output_type": "stream",
          "name": "stdout",
          "text": [
            "Drive already mounted at /content/drive; to attempt to forcibly remount, call drive.mount(\"/content/drive\", force_remount=True).\n"
          ]
        }
      ],
      "source": [
        "from google.colab import drive\n",
        "drive.mount('/content/drive')"
      ]
    },
    {
      "cell_type": "code",
      "execution_count": null,
      "metadata": {
        "id": "FH4rVA7I2IMt"
      },
      "outputs": [],
      "source": [
        "train_path ='/content/drive/MyDrive/Seventh Semester Project/Datasets/Train'\n",
        "valid_path = '/content/drive/MyDrive/Seventh Semester Project/Datasets/Validate'\n",
        "test_path = '/content/drive/MyDrive/Seventh Semester Project/Datasets/Test'\n",
        "Img_size = [224, 224]\n",
        "batch_size = 512"
      ]
    },
    {
      "cell_type": "code",
      "execution_count": null,
      "metadata": {
        "id": "QYdbJ3Pa2NvT"
      },
      "outputs": [],
      "source": [
        "## Data Augmentation\n",
        "\n",
        "train_generator =ImageDataGenerator(rescale = 1/255,\n",
        "                                   horizontal_flip=True,\n",
        "                                   vertical_flip=True,\n",
        "                                   zoom_range=0.2,\n",
        "                                   shear_range=0.2,\n",
        "                                   rotation_range=30,\n",
        "                                   fill_mode='nearest')\n",
        "valid_generator = ImageDataGenerator(rescale= 1/255)\n",
        "test_generator = ImageDataGenerator(rescale = 1/ 255)"
      ]
    },
    {
      "cell_type": "code",
      "execution_count": null,
      "metadata": {
        "colab": {
          "base_uri": "https://localhost:8080/"
        },
        "id": "9utfKnhz2RtL",
        "outputId": "a0315f76-9dba-447c-ee31-8512379bb511"
      },
      "outputs": [
        {
          "output_type": "stream",
          "name": "stdout",
          "text": [
            "Found 10081 images belonging to 10 classes.\n",
            "Found 2348 images belonging to 10 classes.\n",
            "Found 2029 images belonging to 10 classes.\n"
          ]
        }
      ],
      "source": [
        "# Dataset \n",
        "\n",
        "train_datset = train_generator.flow_from_directory(directory=train_path,\n",
        "                                                   target_size= Img_size,\n",
        "                                                   class_mode = 'sparse',\n",
        "                                                   batch_size = batch_size,\n",
        "                                                   color_mode = 'rgb', )\n",
        "\n",
        "valid_datset = train_generator.flow_from_directory(directory=valid_path,\n",
        "                                                   target_size= Img_size,\n",
        "                                                   class_mode = 'sparse',\n",
        "                                                   batch_size = batch_size,\n",
        "                                                   color_mode = 'rgb', )\n",
        "\n",
        "test_datset = train_generator.flow_from_directory(directory=test_path,\n",
        "                                                   target_size= Img_size,\n",
        "                                                   class_mode = 'sparse',\n",
        "                                                   batch_size = batch_size,\n",
        "                                                   color_mode = 'rgb', )"
      ]
    },
    {
      "cell_type": "code",
      "execution_count": null,
      "metadata": {
        "colab": {
          "base_uri": "https://localhost:8080/"
        },
        "id": "QCFuBSFV2edD",
        "outputId": "a4fcc580-2546-42d4-97b6-33d67bbf0e95"
      },
      "outputs": [
        {
          "output_type": "stream",
          "name": "stdout",
          "text": [
            "Downloading data from https://storage.googleapis.com/tensorflow/keras-applications/resnet/resnet50_weights_tf_dim_ordering_tf_kernels_notop.h5\n",
            "94773248/94765736 [==============================] - 0s 0us/step\n",
            "94781440/94765736 [==============================] - 0s 0us/step\n",
            "loaded model\n"
          ]
        }
      ],
      "source": [
        "resnet  = ResNet50(weights = 'imagenet', include_top=False, input_shape=Img_size +[3])\n",
        "print('loaded model')"
      ]
    },
    {
      "cell_type": "code",
      "execution_count": null,
      "metadata": {
        "id": "jXOWc4Rj286h"
      },
      "outputs": [],
      "source": [
        "for layer in resnet.layers:\n",
        "  layer.trainable = False"
      ]
    },
    {
      "cell_type": "code",
      "execution_count": null,
      "metadata": {
        "id": "WhlcjN-K-ylX"
      },
      "outputs": [],
      "source": [
        "model=Sequential()\n",
        "model.add(resnet)\n",
        "#model.add(Dropout(0.5))\n",
        "model.add(Flatten())\n",
        "model.add(Dense(10,activation='softmax'))"
      ]
    },
    {
      "cell_type": "code",
      "execution_count": null,
      "metadata": {
        "colab": {
          "base_uri": "https://localhost:8080/"
        },
        "id": "iezvCHx-3-Py",
        "outputId": "548fc50b-780a-439b-9eac-c514a57e154a"
      },
      "outputs": [
        {
          "output_type": "stream",
          "name": "stdout",
          "text": [
            "Model: \"sequential\"\n",
            "_________________________________________________________________\n",
            " Layer (type)                Output Shape              Param #   \n",
            "=================================================================\n",
            " resnet50 (Functional)       (None, 7, 7, 2048)        23587712  \n",
            "                                                                 \n",
            " flatten (Flatten)           (None, 100352)            0         \n",
            "                                                                 \n",
            " dense (Dense)               (None, 225)               22579425  \n",
            "                                                                 \n",
            "=================================================================\n",
            "Total params: 46,167,137\n",
            "Trainable params: 22,579,425\n",
            "Non-trainable params: 23,587,712\n",
            "_________________________________________________________________\n"
          ]
        }
      ],
      "source": [
        "model.summary()"
      ]
    },
    {
      "cell_type": "code",
      "execution_count": null,
      "metadata": {
        "colab": {
          "base_uri": "https://localhost:8080/"
        },
        "id": "MPILe1dr4DNt",
        "outputId": "688c984f-226d-4e4f-9199-5e29f0821160"
      },
      "outputs": [
        {
          "output_type": "stream",
          "name": "stderr",
          "text": [
            "/usr/local/lib/python3.7/dist-packages/keras/optimizer_v2/adam.py:105: UserWarning: The `lr` argument is deprecated, use `learning_rate` instead.\n",
            "  super(Adam, self).__init__(name, **kwargs)\n"
          ]
        }
      ],
      "source": [
        "opt=tf.keras.optimizers.Adam(lr=0.001)\n",
        "\n",
        "model.compile(loss='sparse_categorical_crossentropy',\n",
        "              metrics=['accuracy'],\n",
        "              optimizer=opt)"
      ]
    },
    {
      "cell_type": "code",
      "execution_count": null,
      "metadata": {
        "id": "n5KGiCd0if-f"
      },
      "outputs": [],
      "source": [
        "# Here Early stopping callback is added for unnecessary running of epochs if model performance is poor \n",
        "filepath = '/content/drive/MyDrive/Seventh Semester Project/model/ResNet50_new1.h5'\n",
        "\n",
        "earlystopping = EarlyStopping(monitor = 'val_accuracy', \n",
        "                              mode = 'max' , \n",
        "                              patience = 10,\n",
        "                              verbose = 1)\n",
        "\n",
        "# for saving best model till execution\n",
        "checkpoint    = ModelCheckpoint(filepath, \n",
        "                                monitor = 'val_accuracy', \n",
        "                                mode='max', \n",
        "                                save_best_only=True, \n",
        "                                verbose = 1)\n",
        "\n",
        "callback_list = [earlystopping, checkpoint]"
      ]
    },
    {
      "cell_type": "code",
      "execution_count": null,
      "metadata": {
        "colab": {
          "base_uri": "https://localhost:8080/"
        },
        "id": "nIHaDQj74WS9",
        "outputId": "25162ea0-d99c-4221-c77a-4f98a3a0d4c3"
      },
      "outputs": [
        {
          "output_type": "stream",
          "name": "stdout",
          "text": [
            "Epoch 1/100\n",
            "20/20 [==============================] - ETA: 0s - loss: 8.4960 - accuracy: 0.1093  \n",
            "Epoch 00001: val_accuracy improved from -inf to 0.12053, saving model to /content/drive/MyDrive/Seventh Semester Project/model/ResNet50_new1.h5\n"
          ]
        },
        {
          "output_type": "stream",
          "name": "stderr",
          "text": [
            "/usr/local/lib/python3.7/dist-packages/keras/engine/functional.py:1410: CustomMaskWarning: Custom mask layers require a config and must override get_config. When loading, the custom mask layer must be passed to the custom_objects argument.\n",
            "  layer_config = serialize_layer_fn(layer)\n"
          ]
        },
        {
          "output_type": "stream",
          "name": "stdout",
          "text": [
            "\b\b\b\b\b\b\b\b\b\b\b\b\b\b\b\b\b\b\b\b\b\b\b\b\b\b\b\b\b\b\b\b\b\b\b\b\b\b\b\b\b\b\b\b\b\b\b\b\b\b\b\b\b\b\b\b\b\b\b\b\b\b\b\b\b\b\b\b\b\b\b\b\b\b\b\b\b\b\b\b\b\b\r20/20 [==============================] - 3067s 154s/step - loss: 8.4960 - accuracy: 0.1093 - val_loss: 7.2658 - val_accuracy: 0.1205\n",
            "Epoch 2/100\n",
            "20/20 [==============================] - ETA: 0s - loss: 4.0844 - accuracy: 0.1357\n",
            "Epoch 00002: val_accuracy did not improve from 0.12053\n",
            "20/20 [==============================] - 239s 12s/step - loss: 4.0844 - accuracy: 0.1357 - val_loss: 3.3042 - val_accuracy: 0.0698\n",
            "Epoch 3/100\n",
            "20/20 [==============================] - ETA: 0s - loss: 2.4176 - accuracy: 0.1902\n",
            "Epoch 00003: val_accuracy did not improve from 0.12053\n",
            "20/20 [==============================] - 235s 12s/step - loss: 2.4176 - accuracy: 0.1902 - val_loss: 2.3748 - val_accuracy: 0.1099\n",
            "Epoch 4/100\n",
            "20/20 [==============================] - ETA: 0s - loss: 2.0969 - accuracy: 0.2558\n",
            "Epoch 00004: val_accuracy improved from 0.12053 to 0.17675, saving model to /content/drive/MyDrive/Seventh Semester Project/model/ResNet50_new1.h5\n",
            "20/20 [==============================] - 238s 12s/step - loss: 2.0969 - accuracy: 0.2558 - val_loss: 2.2568 - val_accuracy: 0.1767\n",
            "Epoch 5/100\n",
            "20/20 [==============================] - ETA: 0s - loss: 2.0286 - accuracy: 0.2785\n",
            "Epoch 00005: val_accuracy did not improve from 0.17675\n",
            "20/20 [==============================] - 236s 12s/step - loss: 2.0286 - accuracy: 0.2785 - val_loss: 2.4182 - val_accuracy: 0.0601\n",
            "Epoch 6/100\n",
            "20/20 [==============================] - ETA: 0s - loss: 2.0168 - accuracy: 0.2816\n",
            "Epoch 00006: val_accuracy did not improve from 0.17675\n",
            "20/20 [==============================] - 237s 12s/step - loss: 2.0168 - accuracy: 0.2816 - val_loss: 2.3369 - val_accuracy: 0.1107\n",
            "Epoch 7/100\n",
            "20/20 [==============================] - ETA: 0s - loss: 2.0095 - accuracy: 0.2761\n",
            "Epoch 00007: val_accuracy did not improve from 0.17675\n",
            "20/20 [==============================] - 236s 12s/step - loss: 2.0095 - accuracy: 0.2761 - val_loss: 2.1979 - val_accuracy: 0.1482\n",
            "Epoch 8/100\n",
            "20/20 [==============================] - ETA: 0s - loss: 1.9272 - accuracy: 0.3341\n",
            "Epoch 00008: val_accuracy did not improve from 0.17675\n",
            "20/20 [==============================] - 239s 12s/step - loss: 1.9272 - accuracy: 0.3341 - val_loss: 2.2293 - val_accuracy: 0.1533\n",
            "Epoch 9/100\n",
            "20/20 [==============================] - ETA: 0s - loss: 1.9404 - accuracy: 0.3183\n",
            "Epoch 00009: val_accuracy did not improve from 0.17675\n",
            "20/20 [==============================] - 241s 12s/step - loss: 1.9404 - accuracy: 0.3183 - val_loss: 2.3373 - val_accuracy: 0.0835\n",
            "Epoch 10/100\n",
            "20/20 [==============================] - ETA: 0s - loss: 1.8897 - accuracy: 0.3381\n",
            "Epoch 00010: val_accuracy improved from 0.17675 to 0.18995, saving model to /content/drive/MyDrive/Seventh Semester Project/model/ResNet50_new1.h5\n",
            "20/20 [==============================] - 244s 12s/step - loss: 1.8897 - accuracy: 0.3381 - val_loss: 2.2378 - val_accuracy: 0.1899\n",
            "Epoch 11/100\n",
            "20/20 [==============================] - ETA: 0s - loss: 1.8626 - accuracy: 0.3513\n",
            "Epoch 00011: val_accuracy improved from 0.18995 to 0.22871, saving model to /content/drive/MyDrive/Seventh Semester Project/model/ResNet50_new1.h5\n",
            "20/20 [==============================] - 245s 12s/step - loss: 1.8626 - accuracy: 0.3513 - val_loss: 2.2021 - val_accuracy: 0.2287\n",
            "Epoch 12/100\n",
            "20/20 [==============================] - ETA: 0s - loss: 1.8578 - accuracy: 0.3489\n",
            "Epoch 00012: val_accuracy did not improve from 0.22871\n",
            "20/20 [==============================] - 243s 12s/step - loss: 1.8578 - accuracy: 0.3489 - val_loss: 2.2231 - val_accuracy: 0.1640\n",
            "Epoch 13/100\n",
            "20/20 [==============================] - ETA: 0s - loss: 1.8434 - accuracy: 0.3564\n",
            "Epoch 00013: val_accuracy did not improve from 0.22871\n",
            "20/20 [==============================] - 242s 12s/step - loss: 1.8434 - accuracy: 0.3564 - val_loss: 2.1835 - val_accuracy: 0.1882\n",
            "Epoch 14/100\n",
            "20/20 [==============================] - ETA: 0s - loss: 1.8252 - accuracy: 0.3642\n",
            "Epoch 00014: val_accuracy did not improve from 0.22871\n",
            "20/20 [==============================] - 243s 12s/step - loss: 1.8252 - accuracy: 0.3642 - val_loss: 2.2379 - val_accuracy: 0.1942\n",
            "Epoch 15/100\n",
            "20/20 [==============================] - ETA: 0s - loss: 1.8253 - accuracy: 0.3552\n",
            "Epoch 00015: val_accuracy did not improve from 0.22871\n",
            "20/20 [==============================] - 242s 12s/step - loss: 1.8253 - accuracy: 0.3552 - val_loss: 2.3041 - val_accuracy: 0.1325\n",
            "Epoch 16/100\n",
            "20/20 [==============================] - ETA: 0s - loss: 1.7823 - accuracy: 0.3900\n",
            "Epoch 00016: val_accuracy did not improve from 0.22871\n",
            "20/20 [==============================] - 242s 12s/step - loss: 1.7823 - accuracy: 0.3900 - val_loss: 2.1630 - val_accuracy: 0.2074\n",
            "Epoch 17/100\n",
            "20/20 [==============================] - ETA: 0s - loss: 2.0444 - accuracy: 0.3324\n",
            "Epoch 00017: val_accuracy improved from 0.22871 to 0.28237, saving model to /content/drive/MyDrive/Seventh Semester Project/model/ResNet50_new1.h5\n",
            "20/20 [==============================] - 245s 12s/step - loss: 2.0444 - accuracy: 0.3324 - val_loss: 2.0907 - val_accuracy: 0.2824\n",
            "Epoch 18/100\n",
            "20/20 [==============================] - ETA: 0s - loss: 2.6910 - accuracy: 0.2729\n",
            "Epoch 00018: val_accuracy did not improve from 0.28237\n",
            "20/20 [==============================] - 242s 12s/step - loss: 2.6910 - accuracy: 0.2729 - val_loss: 2.8378 - val_accuracy: 0.1610\n",
            "Epoch 19/100\n",
            "20/20 [==============================] - ETA: 0s - loss: 2.0695 - accuracy: 0.3088\n",
            "Epoch 00019: val_accuracy did not improve from 0.28237\n",
            "20/20 [==============================] - 243s 12s/step - loss: 2.0695 - accuracy: 0.3088 - val_loss: 2.1260 - val_accuracy: 0.2142\n",
            "Epoch 20/100\n",
            "20/20 [==============================] - ETA: 0s - loss: 1.8182 - accuracy: 0.3644\n",
            "Epoch 00020: val_accuracy did not improve from 0.28237\n",
            "20/20 [==============================] - 242s 12s/step - loss: 1.8182 - accuracy: 0.3644 - val_loss: 2.2328 - val_accuracy: 0.1410\n",
            "Epoch 21/100\n",
            "20/20 [==============================] - ETA: 0s - loss: 1.7113 - accuracy: 0.4146\n",
            "Epoch 00021: val_accuracy did not improve from 0.28237\n",
            "20/20 [==============================] - 242s 12s/step - loss: 1.7113 - accuracy: 0.4146 - val_loss: 2.2035 - val_accuracy: 0.1550\n",
            "Epoch 22/100\n",
            "20/20 [==============================] - ETA: 0s - loss: 1.7003 - accuracy: 0.4193\n",
            "Epoch 00022: val_accuracy did not improve from 0.28237\n",
            "20/20 [==============================] - 241s 12s/step - loss: 1.7003 - accuracy: 0.4193 - val_loss: 2.1392 - val_accuracy: 0.1989\n",
            "Epoch 23/100\n",
            "20/20 [==============================] - ETA: 0s - loss: 1.6648 - accuracy: 0.4383\n",
            "Epoch 00023: val_accuracy did not improve from 0.28237\n",
            "20/20 [==============================] - 241s 12s/step - loss: 1.6648 - accuracy: 0.4383 - val_loss: 2.0938 - val_accuracy: 0.2164\n",
            "Epoch 24/100\n",
            "20/20 [==============================] - ETA: 0s - loss: 1.6736 - accuracy: 0.4211\n",
            "Epoch 00024: val_accuracy did not improve from 0.28237\n",
            "20/20 [==============================] - 241s 12s/step - loss: 1.6736 - accuracy: 0.4211 - val_loss: 2.1473 - val_accuracy: 0.1848\n",
            "Epoch 25/100\n",
            "20/20 [==============================] - ETA: 0s - loss: 1.6505 - accuracy: 0.4416\n",
            "Epoch 00025: val_accuracy did not improve from 0.28237\n",
            "20/20 [==============================] - 242s 12s/step - loss: 1.6505 - accuracy: 0.4416 - val_loss: 2.0699 - val_accuracy: 0.2394\n",
            "Epoch 26/100\n",
            "20/20 [==============================] - ETA: 0s - loss: 1.6359 - accuracy: 0.4490\n",
            "Epoch 00026: val_accuracy did not improve from 0.28237\n",
            "20/20 [==============================] - 242s 12s/step - loss: 1.6359 - accuracy: 0.4490 - val_loss: 2.1755 - val_accuracy: 0.1908\n",
            "Epoch 27/100\n",
            "20/20 [==============================] - ETA: 0s - loss: 1.6707 - accuracy: 0.4290\n",
            "Epoch 00027: val_accuracy did not improve from 0.28237\n",
            "20/20 [==============================] - 239s 12s/step - loss: 1.6707 - accuracy: 0.4290 - val_loss: 2.1555 - val_accuracy: 0.2376\n",
            "Epoch 00027: early stopping\n"
          ]
        }
      ],
      "source": [
        "result = model.fit(train_datset, \n",
        "                   validation_data=valid_datset, \n",
        "                   epochs = 100,\n",
        "                   callbacks = callback_list)\n",
        "                    #verbose= 1)"
      ]
    }
  ],
  "metadata": {
    "accelerator": "GPU",
    "colab": {
      "collapsed_sections": [],
      "machine_shape": "hm",
      "name": "resnet50.ipynb",
      "provenance": []
    },
    "kernelspec": {
      "display_name": "Python 3",
      "name": "python3"
    },
    "language_info": {
      "name": "python"
    }
  },
  "nbformat": 4,
  "nbformat_minor": 0
}