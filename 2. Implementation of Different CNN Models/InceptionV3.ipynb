{
  "nbformat": 4,
  "nbformat_minor": 0,
  "metadata": {
    "colab": {
      "name": "InceptionV3*.ipynb",
      "provenance": [],
      "machine_shape": "hm",
      "collapsed_sections": []
    },
    "kernelspec": {
      "name": "python3",
      "display_name": "Python 3"
    },
    "language_info": {
      "name": "python"
    },
    "accelerator": "TPU"
  },
  "cells": [
    {
      "cell_type": "code",
      "execution_count": null,
      "metadata": {
        "colab": {
          "base_uri": "https://localhost:8080/"
        },
        "id": "vXsc39rYeHsk",
        "outputId": "69be9aec-a612-4888-c825-e86275c36f20"
      },
      "outputs": [
        {
          "output_type": "stream",
          "name": "stdout",
          "text": [
            "Requirement already satisfied: tensorflow-gpu in /usr/local/lib/python3.7/dist-packages (2.7.0)\n",
            "Requirement already satisfied: numpy>=1.14.5 in /usr/local/lib/python3.7/dist-packages (from tensorflow-gpu) (1.19.5)\n",
            "Requirement already satisfied: typing-extensions>=3.6.6 in /usr/local/lib/python3.7/dist-packages (from tensorflow-gpu) (3.10.0.2)\n",
            "Requirement already satisfied: wrapt>=1.11.0 in /usr/local/lib/python3.7/dist-packages (from tensorflow-gpu) (1.13.3)\n",
            "Requirement already satisfied: keras-preprocessing>=1.1.1 in /usr/local/lib/python3.7/dist-packages (from tensorflow-gpu) (1.1.2)\n",
            "Requirement already satisfied: wheel<1.0,>=0.32.0 in /usr/local/lib/python3.7/dist-packages (from tensorflow-gpu) (0.37.0)\n",
            "Requirement already satisfied: astunparse>=1.6.0 in /usr/local/lib/python3.7/dist-packages (from tensorflow-gpu) (1.6.3)\n",
            "Requirement already satisfied: protobuf>=3.9.2 in /usr/local/lib/python3.7/dist-packages (from tensorflow-gpu) (3.17.3)\n",
            "Requirement already satisfied: flatbuffers<3.0,>=1.12 in /usr/local/lib/python3.7/dist-packages (from tensorflow-gpu) (2.0)\n",
            "Requirement already satisfied: tensorflow-estimator<2.8,~=2.7.0rc0 in /usr/local/lib/python3.7/dist-packages (from tensorflow-gpu) (2.7.0)\n",
            "Requirement already satisfied: termcolor>=1.1.0 in /usr/local/lib/python3.7/dist-packages (from tensorflow-gpu) (1.1.0)\n",
            "Requirement already satisfied: opt-einsum>=2.3.2 in /usr/local/lib/python3.7/dist-packages (from tensorflow-gpu) (3.3.0)\n",
            "Requirement already satisfied: keras<2.8,>=2.7.0rc0 in /usr/local/lib/python3.7/dist-packages (from tensorflow-gpu) (2.7.0)\n",
            "Requirement already satisfied: tensorflow-io-gcs-filesystem>=0.21.0 in /usr/local/lib/python3.7/dist-packages (from tensorflow-gpu) (0.22.0)\n",
            "Requirement already satisfied: six>=1.12.0 in /usr/local/lib/python3.7/dist-packages (from tensorflow-gpu) (1.15.0)\n",
            "Requirement already satisfied: h5py>=2.9.0 in /usr/local/lib/python3.7/dist-packages (from tensorflow-gpu) (3.1.0)\n",
            "Requirement already satisfied: libclang>=9.0.1 in /usr/local/lib/python3.7/dist-packages (from tensorflow-gpu) (12.0.0)\n",
            "Requirement already satisfied: gast<0.5.0,>=0.2.1 in /usr/local/lib/python3.7/dist-packages (from tensorflow-gpu) (0.4.0)\n",
            "Requirement already satisfied: google-pasta>=0.1.1 in /usr/local/lib/python3.7/dist-packages (from tensorflow-gpu) (0.2.0)\n",
            "Requirement already satisfied: grpcio<2.0,>=1.24.3 in /usr/local/lib/python3.7/dist-packages (from tensorflow-gpu) (1.42.0)\n",
            "Requirement already satisfied: tensorboard~=2.6 in /usr/local/lib/python3.7/dist-packages (from tensorflow-gpu) (2.7.0)\n",
            "Requirement already satisfied: absl-py>=0.4.0 in /usr/local/lib/python3.7/dist-packages (from tensorflow-gpu) (0.12.0)\n",
            "Requirement already satisfied: cached-property in /usr/local/lib/python3.7/dist-packages (from h5py>=2.9.0->tensorflow-gpu) (1.5.2)\n",
            "Requirement already satisfied: requests<3,>=2.21.0 in /usr/local/lib/python3.7/dist-packages (from tensorboard~=2.6->tensorflow-gpu) (2.23.0)\n",
            "Requirement already satisfied: markdown>=2.6.8 in /usr/local/lib/python3.7/dist-packages (from tensorboard~=2.6->tensorflow-gpu) (3.3.6)\n",
            "Requirement already satisfied: werkzeug>=0.11.15 in /usr/local/lib/python3.7/dist-packages (from tensorboard~=2.6->tensorflow-gpu) (1.0.1)\n",
            "Requirement already satisfied: google-auth-oauthlib<0.5,>=0.4.1 in /usr/local/lib/python3.7/dist-packages (from tensorboard~=2.6->tensorflow-gpu) (0.4.6)\n",
            "Requirement already satisfied: google-auth<3,>=1.6.3 in /usr/local/lib/python3.7/dist-packages (from tensorboard~=2.6->tensorflow-gpu) (1.35.0)\n",
            "Requirement already satisfied: setuptools>=41.0.0 in /usr/local/lib/python3.7/dist-packages (from tensorboard~=2.6->tensorflow-gpu) (57.4.0)\n",
            "Requirement already satisfied: tensorboard-data-server<0.7.0,>=0.6.0 in /usr/local/lib/python3.7/dist-packages (from tensorboard~=2.6->tensorflow-gpu) (0.6.1)\n",
            "Requirement already satisfied: tensorboard-plugin-wit>=1.6.0 in /usr/local/lib/python3.7/dist-packages (from tensorboard~=2.6->tensorflow-gpu) (1.8.0)\n",
            "Requirement already satisfied: cachetools<5.0,>=2.0.0 in /usr/local/lib/python3.7/dist-packages (from google-auth<3,>=1.6.3->tensorboard~=2.6->tensorflow-gpu) (4.2.4)\n",
            "Requirement already satisfied: rsa<5,>=3.1.4 in /usr/local/lib/python3.7/dist-packages (from google-auth<3,>=1.6.3->tensorboard~=2.6->tensorflow-gpu) (4.8)\n",
            "Requirement already satisfied: pyasn1-modules>=0.2.1 in /usr/local/lib/python3.7/dist-packages (from google-auth<3,>=1.6.3->tensorboard~=2.6->tensorflow-gpu) (0.2.8)\n",
            "Requirement already satisfied: requests-oauthlib>=0.7.0 in /usr/local/lib/python3.7/dist-packages (from google-auth-oauthlib<0.5,>=0.4.1->tensorboard~=2.6->tensorflow-gpu) (1.3.0)\n",
            "Requirement already satisfied: importlib-metadata>=4.4 in /usr/local/lib/python3.7/dist-packages (from markdown>=2.6.8->tensorboard~=2.6->tensorflow-gpu) (4.8.2)\n",
            "Requirement already satisfied: zipp>=0.5 in /usr/local/lib/python3.7/dist-packages (from importlib-metadata>=4.4->markdown>=2.6.8->tensorboard~=2.6->tensorflow-gpu) (3.6.0)\n",
            "Requirement already satisfied: pyasn1<0.5.0,>=0.4.6 in /usr/local/lib/python3.7/dist-packages (from pyasn1-modules>=0.2.1->google-auth<3,>=1.6.3->tensorboard~=2.6->tensorflow-gpu) (0.4.8)\n",
            "Requirement already satisfied: chardet<4,>=3.0.2 in /usr/local/lib/python3.7/dist-packages (from requests<3,>=2.21.0->tensorboard~=2.6->tensorflow-gpu) (3.0.4)\n",
            "Requirement already satisfied: certifi>=2017.4.17 in /usr/local/lib/python3.7/dist-packages (from requests<3,>=2.21.0->tensorboard~=2.6->tensorflow-gpu) (2021.10.8)\n",
            "Requirement already satisfied: urllib3!=1.25.0,!=1.25.1,<1.26,>=1.21.1 in /usr/local/lib/python3.7/dist-packages (from requests<3,>=2.21.0->tensorboard~=2.6->tensorflow-gpu) (1.24.3)\n",
            "Requirement already satisfied: idna<3,>=2.5 in /usr/local/lib/python3.7/dist-packages (from requests<3,>=2.21.0->tensorboard~=2.6->tensorflow-gpu) (2.10)\n",
            "Requirement already satisfied: oauthlib>=3.0.0 in /usr/local/lib/python3.7/dist-packages (from requests-oauthlib>=0.7.0->google-auth-oauthlib<0.5,>=0.4.1->tensorboard~=2.6->tensorflow-gpu) (3.1.1)\n"
          ]
        }
      ],
      "source": [
        "3!pip install tensorflow-gpu"
      ]
    },
    {
      "cell_type": "code",
      "source": [
        "from google.colab import drive\n",
        "drive.mount('/content/drive')"
      ],
      "metadata": {
        "colab": {
          "base_uri": "https://localhost:8080/"
        },
        "id": "B_EWHe6Jf00Q",
        "outputId": "6fbed73f-7de5-47eb-d993-a15258c54a3b"
      },
      "execution_count": null,
      "outputs": [
        {
          "output_type": "stream",
          "name": "stdout",
          "text": [
            "Mounted at /content/drive\n"
          ]
        }
      ]
    },
    {
      "cell_type": "code",
      "source": [
        "import tensorflow as tf"
      ],
      "metadata": {
        "id": "Ks4_aeg2f8RI"
      },
      "execution_count": null,
      "outputs": []
    },
    {
      "cell_type": "code",
      "source": [
        "import numpy as np\n",
        "import os\n",
        "from tensorflow.keras.models import load_model, Sequential, Model\n",
        "from tensorflow.keras.layers import Dense, Conv2D, BatchNormalization, Dropout, Flatten, Activation\n",
        "from tensorflow.keras.preprocessing.image import ImageDataGenerator\n",
        "from tensorflow.keras.callbacks import EarlyStopping, ReduceLROnPlateau, LearningRateScheduler, ModelCheckpoint\n",
        "from tensorflow.keras.preprocessing.image import load_img, img_to_array\n",
        "from glob import glob\n",
        "import matplotlib.pyplot as plt\n",
        "%matplotlib inline"
      ],
      "metadata": {
        "id": "f0TIAV8Df_E_"
      },
      "execution_count": null,
      "outputs": []
    },
    {
      "cell_type": "code",
      "source": [
        "train_path ='/content/drive/MyDrive/Seventh Semester Project/Datasets/Train'\n",
        "valid_path = '/content/drive/MyDrive/Seventh Semester Project/Datasets/Validate'\n",
        "test_path = '/content/drive/MyDrive/Seventh Semester Project/Datasets/Test'\n",
        "Img_size = [224, 224]\n",
        "batch_size = 512"
      ],
      "metadata": {
        "id": "4d0X5WoqgdRY"
      },
      "execution_count": null,
      "outputs": []
    },
    {
      "cell_type": "code",
      "source": [
        "## Data Augmentation\n",
        "\n",
        "train_generator =ImageDataGenerator(rescale = 1/255,\n",
        "                                   horizontal_flip=True,\n",
        "                                   vertical_flip=True,\n",
        "                                   zoom_range=0.2,\n",
        "                                   shear_range=0.2,\n",
        "                                   rotation_range=30,\n",
        "                                   fill_mode='nearest')\n",
        "valid_generator = ImageDataGenerator(rescale= 1/255)\n",
        "test_generator = ImageDataGenerator(rescale = 1/ 255)"
      ],
      "metadata": {
        "id": "hg24UcQxg9yW"
      },
      "execution_count": null,
      "outputs": []
    },
    {
      "cell_type": "code",
      "source": [
        "# Dataset \n",
        "\n",
        "train_datset = train_generator.flow_from_directory(directory=train_path,\n",
        "                                                   target_size= Img_size,\n",
        "                                                   class_mode = 'sparse',\n",
        "                                                   batch_size = batch_size,\n",
        "                                                   color_mode = 'rgb', )\n",
        "\n",
        "valid_datset = train_generator.flow_from_directory(directory=valid_path,\n",
        "                                                   target_size= Img_size,\n",
        "                                                   class_mode = 'sparse',\n",
        "                                                   batch_size = batch_size,\n",
        "                                                   color_mode = 'rgb', )\n",
        "\n",
        "test_datset = train_generator.flow_from_directory(directory=test_path,\n",
        "                                                   target_size= Img_size,\n",
        "                                                   class_mode = 'sparse',\n",
        "                                                   batch_size = batch_size,\n",
        "                                                   color_mode = 'rgb', )"
      ],
      "metadata": {
        "colab": {
          "base_uri": "https://localhost:8080/"
        },
        "id": "XHs6jGsshEDf",
        "outputId": "da898998-c29f-4a84-b255-e871353b8aeb"
      },
      "execution_count": null,
      "outputs": [
        {
          "output_type": "stream",
          "name": "stdout",
          "text": [
            "Found 10081 images belonging to 10 classes.\n",
            "Found 2348 images belonging to 10 classes.\n",
            "Found 2029 images belonging to 10 classes.\n"
          ]
        }
      ]
    },
    {
      "cell_type": "code",
      "source": [
        "from keras.applications.inception_v3 import InceptionV3,preprocess_input,decode_predictions"
      ],
      "metadata": {
        "id": "CjeegPachIBv"
      },
      "execution_count": null,
      "outputs": []
    },
    {
      "cell_type": "code",
      "source": [
        "base_model  = InceptionV3(weights = 'imagenet', include_top=False, input_shape=Img_size +[3])\n",
        "print('loaded model')"
      ],
      "metadata": {
        "id": "dVun2OnjhyxP",
        "colab": {
          "base_uri": "https://localhost:8080/"
        },
        "outputId": "b8b6789d-b8b4-4594-8f2b-cf2ff9732318"
      },
      "execution_count": null,
      "outputs": [
        {
          "output_type": "stream",
          "name": "stdout",
          "text": [
            "loaded model\n"
          ]
        }
      ]
    },
    {
      "cell_type": "code",
      "source": [
        "for layer in base_model.layers:\n",
        "  layer.trainable = False"
      ],
      "metadata": {
        "id": "wGcUqm_uiAiI"
      },
      "execution_count": null,
      "outputs": []
    },
    {
      "cell_type": "code",
      "source": [
        "benchmark=Sequential()\n",
        "benchmark.add(base_model)\n",
        "#model.add(Dropout(0.5))\n",
        "benchmark.add(Flatten())\n",
        "benchmark.add(Dense(10,activation='softmax'))"
      ],
      "metadata": {
        "id": "nVrklmlOmQC_"
      },
      "execution_count": null,
      "outputs": []
    },
    {
      "cell_type": "code",
      "source": [
        "benchmark.summary()"
      ],
      "metadata": {
        "colab": {
          "base_uri": "https://localhost:8080/"
        },
        "id": "8ye7kRvGiLPn",
        "outputId": "59dc4f68-54bf-4dac-dc08-9acda2305816"
      },
      "execution_count": null,
      "outputs": [
        {
          "output_type": "stream",
          "name": "stdout",
          "text": [
            "Model: \"sequential\"\n",
            "_________________________________________________________________\n",
            " Layer (type)                Output Shape              Param #   \n",
            "=================================================================\n",
            " inception_v3 (Functional)   (None, 5, 5, 2048)        21802784  \n",
            "                                                                 \n",
            " flatten (Flatten)           (None, 51200)             0         \n",
            "                                                                 \n",
            " dense (Dense)               (None, 225)               11520225  \n",
            "                                                                 \n",
            "=================================================================\n",
            "Total params: 33,323,009\n",
            "Trainable params: 11,520,225\n",
            "Non-trainable params: 21,802,784\n",
            "_________________________________________________________________\n"
          ]
        }
      ]
    },
    {
      "cell_type": "code",
      "source": [
        "opt=tf.keras.optimizers.Adam(lr=0.001)\n",
        "\n",
        "benchmark.compile(loss='sparse_categorical_crossentropy',\n",
        "              metrics=['accuracy'],\n",
        "              optimizer=opt)"
      ],
      "metadata": {
        "colab": {
          "base_uri": "https://localhost:8080/"
        },
        "id": "loi4HoCfiZVv",
        "outputId": "2001f1b2-2e56-4c4c-cd2e-ccd6e99e4ec8"
      },
      "execution_count": null,
      "outputs": [
        {
          "output_type": "stream",
          "name": "stderr",
          "text": [
            "/usr/local/lib/python3.7/dist-packages/keras/optimizer_v2/adam.py:105: UserWarning: The `lr` argument is deprecated, use `learning_rate` instead.\n",
            "  super(Adam, self).__init__(name, **kwargs)\n"
          ]
        }
      ]
    },
    {
      "cell_type": "code",
      "source": [
        "# Here Early stopping callback is added for unnecessary running of epochs if model performance is poor \n",
        "filepath = '/content/drive/MyDrive/Seventh Semester Project/model/InceptionV3_base_model.h5'\n",
        "\n",
        "earlystopping = EarlyStopping(monitor = 'val_accuracy', \n",
        "                              mode = 'max' , \n",
        "                              patience = 10,\n",
        "                              verbose = 1)\n",
        "\n",
        "# for saving best model till execution\n",
        "checkpoint    = ModelCheckpoint(filepath, \n",
        "                                monitor = 'val_accuracy', \n",
        "                                mode='max', \n",
        "                                save_best_only=True, \n",
        "                                verbose = 1)\n",
        "\n",
        "callback_list = [earlystopping, checkpoint]"
      ],
      "metadata": {
        "id": "n5KGiCd0if-f"
      },
      "execution_count": null,
      "outputs": []
    },
    {
      "cell_type": "code",
      "source": [
        "result = benchmark.fit(train_datset, \n",
        "                   validation_data=valid_datset, \n",
        "                   epochs = 100,\n",
        "                   callbacks = callback_list)\n",
        "                    #verbose= 1)"
      ],
      "metadata": {
        "colab": {
          "base_uri": "https://localhost:8080/"
        },
        "id": "BSfNeJ_gik5X",
        "outputId": "03c4a844-5816-4793-904a-9b3fede84653"
      },
      "execution_count": null,
      "outputs": [
        {
          "output_type": "stream",
          "name": "stdout",
          "text": [
            "Epoch 1/100\n",
            "20/20 [==============================] - ETA: 0s - loss: 12.5142 - accuracy: 0.2431  \n",
            "Epoch 00001: val_accuracy improved from -inf to 0.32794, saving model to /content/drive/MyDrive/Seventh Semester Project/model/InceptionV3_base_model.h5\n",
            "20/20 [==============================] - 2176s 109s/step - loss: 12.5142 - accuracy: 0.2431 - val_loss: 7.4803 - val_accuracy: 0.3279\n",
            "Epoch 2/100\n",
            "20/20 [==============================] - ETA: 0s - loss: 3.9511 - accuracy: 0.5066 \n",
            "Epoch 00002: val_accuracy improved from 0.32794 to 0.45698, saving model to /content/drive/MyDrive/Seventh Semester Project/model/InceptionV3_base_model.h5\n",
            "20/20 [==============================] - 319s 16s/step - loss: 3.9511 - accuracy: 0.5066 - val_loss: 3.2158 - val_accuracy: 0.4570\n",
            "Epoch 3/100\n",
            "20/20 [==============================] - ETA: 0s - loss: 2.0002 - accuracy: 0.5926 \n",
            "Epoch 00003: val_accuracy improved from 0.45698 to 0.47019, saving model to /content/drive/MyDrive/Seventh Semester Project/model/InceptionV3_base_model.h5\n",
            "20/20 [==============================] - 312s 16s/step - loss: 2.0002 - accuracy: 0.5926 - val_loss: 2.1928 - val_accuracy: 0.4702\n",
            "Epoch 4/100\n",
            "20/20 [==============================] - ETA: 0s - loss: 1.2628 - accuracy: 0.6422 \n",
            "Epoch 00004: val_accuracy improved from 0.47019 to 0.53450, saving model to /content/drive/MyDrive/Seventh Semester Project/model/InceptionV3_base_model.h5\n",
            "20/20 [==============================] - 327s 17s/step - loss: 1.2628 - accuracy: 0.6422 - val_loss: 1.4804 - val_accuracy: 0.5345\n",
            "Epoch 5/100\n",
            "20/20 [==============================] - ETA: 0s - loss: 0.9950 - accuracy: 0.6766 \n",
            "Epoch 00005: val_accuracy improved from 0.53450 to 0.56133, saving model to /content/drive/MyDrive/Seventh Semester Project/model/InceptionV3_base_model.h5\n",
            "20/20 [==============================] - 325s 16s/step - loss: 0.9950 - accuracy: 0.6766 - val_loss: 1.4062 - val_accuracy: 0.5613\n",
            "Epoch 6/100\n",
            "20/20 [==============================] - ETA: 0s - loss: 0.9320 - accuracy: 0.6876 \n",
            "Epoch 00006: val_accuracy did not improve from 0.56133\n",
            "20/20 [==============================] - 341s 17s/step - loss: 0.9320 - accuracy: 0.6876 - val_loss: 1.4502 - val_accuracy: 0.5158\n",
            "Epoch 7/100\n",
            "20/20 [==============================] - ETA: 0s - loss: 0.9138 - accuracy: 0.6937 \n",
            "Epoch 00007: val_accuracy improved from 0.56133 to 0.56346, saving model to /content/drive/MyDrive/Seventh Semester Project/model/InceptionV3_base_model.h5\n",
            "20/20 [==============================] - 347s 17s/step - loss: 0.9138 - accuracy: 0.6937 - val_loss: 1.3086 - val_accuracy: 0.5635\n",
            "Epoch 8/100\n",
            "20/20 [==============================] - ETA: 0s - loss: 0.8552 - accuracy: 0.7089 \n",
            "Epoch 00008: val_accuracy improved from 0.56346 to 0.59327, saving model to /content/drive/MyDrive/Seventh Semester Project/model/InceptionV3_base_model.h5\n",
            "20/20 [==============================] - 343s 17s/step - loss: 0.8552 - accuracy: 0.7089 - val_loss: 1.1998 - val_accuracy: 0.5933\n",
            "Epoch 9/100\n",
            "20/20 [==============================] - ETA: 0s - loss: 0.8229 - accuracy: 0.7167 \n",
            "Epoch 00009: val_accuracy did not improve from 0.59327\n",
            "20/20 [==============================] - 346s 17s/step - loss: 0.8229 - accuracy: 0.7167 - val_loss: 1.2616 - val_accuracy: 0.5703\n",
            "Epoch 10/100\n",
            "20/20 [==============================] - ETA: 0s - loss: 0.8666 - accuracy: 0.7199 \n",
            "Epoch 00010: val_accuracy improved from 0.59327 to 0.61201, saving model to /content/drive/MyDrive/Seventh Semester Project/model/InceptionV3_base_model.h5\n",
            "20/20 [==============================] - 347s 17s/step - loss: 0.8666 - accuracy: 0.7199 - val_loss: 1.2021 - val_accuracy: 0.6120\n",
            "Epoch 11/100\n",
            "20/20 [==============================] - ETA: 0s - loss: 0.7859 - accuracy: 0.7372 \n",
            "Epoch 00011: val_accuracy did not improve from 0.61201\n",
            "20/20 [==============================] - 339s 17s/step - loss: 0.7859 - accuracy: 0.7372 - val_loss: 1.3537 - val_accuracy: 0.5779\n",
            "Epoch 12/100\n",
            "20/20 [==============================] - ETA: 0s - loss: 0.8143 - accuracy: 0.7355 \n",
            "Epoch 00012: val_accuracy did not improve from 0.61201\n",
            "20/20 [==============================] - 330s 17s/step - loss: 0.8143 - accuracy: 0.7355 - val_loss: 1.2892 - val_accuracy: 0.6001\n",
            "Epoch 13/100\n",
            "20/20 [==============================] - ETA: 0s - loss: 0.7905 - accuracy: 0.7408 \n",
            "Epoch 00013: val_accuracy did not improve from 0.61201\n",
            "20/20 [==============================] - 322s 16s/step - loss: 0.7905 - accuracy: 0.7408 - val_loss: 1.2072 - val_accuracy: 0.6039\n",
            "Epoch 14/100\n",
            "20/20 [==============================] - ETA: 0s - loss: 0.7391 - accuracy: 0.7524 \n",
            "Epoch 00014: val_accuracy improved from 0.61201 to 0.64779, saving model to /content/drive/MyDrive/Seventh Semester Project/model/InceptionV3_base_model.h5\n",
            "20/20 [==============================] - 330s 17s/step - loss: 0.7391 - accuracy: 0.7524 - val_loss: 1.0549 - val_accuracy: 0.6478\n",
            "Epoch 15/100\n",
            "20/20 [==============================] - ETA: 0s - loss: 0.7485 - accuracy: 0.7486 \n",
            "Epoch 00015: val_accuracy did not improve from 0.64779\n",
            "20/20 [==============================] - 343s 17s/step - loss: 0.7485 - accuracy: 0.7486 - val_loss: 1.2423 - val_accuracy: 0.6048\n",
            "Epoch 16/100\n",
            "20/20 [==============================] - ETA: 0s - loss: 0.8331 - accuracy: 0.7338 \n",
            "Epoch 00016: val_accuracy did not improve from 0.64779\n",
            "20/20 [==============================] - 335s 17s/step - loss: 0.8331 - accuracy: 0.7338 - val_loss: 1.1253 - val_accuracy: 0.6367\n",
            "Epoch 17/100\n",
            "20/20 [==============================] - ETA: 0s - loss: 0.8386 - accuracy: 0.7445 \n",
            "Epoch 00017: val_accuracy did not improve from 0.64779\n",
            "20/20 [==============================] - 329s 17s/step - loss: 0.8386 - accuracy: 0.7445 - val_loss: 1.2403 - val_accuracy: 0.6193\n",
            "Epoch 18/100\n",
            "20/20 [==============================] - ETA: 0s - loss: 1.1764 - accuracy: 0.6967 \n",
            "Epoch 00018: val_accuracy did not improve from 0.64779\n",
            "20/20 [==============================] - 327s 16s/step - loss: 1.1764 - accuracy: 0.6967 - val_loss: 1.4044 - val_accuracy: 0.5818\n",
            "Epoch 19/100\n",
            "20/20 [==============================] - ETA: 0s - loss: 0.8895 - accuracy: 0.7305 \n",
            "Epoch 00019: val_accuracy did not improve from 0.64779\n",
            "20/20 [==============================] - 316s 16s/step - loss: 0.8895 - accuracy: 0.7305 - val_loss: 1.3330 - val_accuracy: 0.6018\n",
            "Epoch 20/100\n",
            "20/20 [==============================] - ETA: 0s - loss: 0.8290 - accuracy: 0.7474 \n",
            "Epoch 00020: val_accuracy did not improve from 0.64779\n",
            "20/20 [==============================] - 316s 16s/step - loss: 0.8290 - accuracy: 0.7474 - val_loss: 1.2366 - val_accuracy: 0.6269\n",
            "Epoch 21/100\n",
            "20/20 [==============================] - ETA: 0s - loss: 0.7555 - accuracy: 0.7607 \n",
            "Epoch 00021: val_accuracy did not improve from 0.64779\n",
            "20/20 [==============================] - 317s 16s/step - loss: 0.7555 - accuracy: 0.7607 - val_loss: 1.2085 - val_accuracy: 0.6384\n",
            "Epoch 22/100\n",
            "20/20 [==============================] - ETA: 0s - loss: 0.7609 - accuracy: 0.7620 \n",
            "Epoch 00022: val_accuracy did not improve from 0.64779\n",
            "20/20 [==============================] - 319s 16s/step - loss: 0.7609 - accuracy: 0.7620 - val_loss: 1.2133 - val_accuracy: 0.6320\n",
            "Epoch 23/100\n",
            "20/20 [==============================] - ETA: 0s - loss: 0.6825 - accuracy: 0.7820 \n",
            "Epoch 00023: val_accuracy did not improve from 0.64779\n",
            "20/20 [==============================] - 320s 16s/step - loss: 0.6825 - accuracy: 0.7820 - val_loss: 1.2420 - val_accuracy: 0.6248\n",
            "Epoch 24/100\n",
            "20/20 [==============================] - ETA: 0s - loss: 0.7815 - accuracy: 0.7565 \n",
            "Epoch 00024: val_accuracy improved from 0.64779 to 0.67632, saving model to /content/drive/MyDrive/Seventh Semester Project/model/InceptionV3_base_model.h5\n",
            "20/20 [==============================] - 328s 17s/step - loss: 0.7815 - accuracy: 0.7565 - val_loss: 0.9867 - val_accuracy: 0.6763\n",
            "Epoch 25/100\n",
            "20/20 [==============================] - ETA: 0s - loss: 0.6578 - accuracy: 0.7840 \n",
            "Epoch 00025: val_accuracy improved from 0.67632 to 0.69591, saving model to /content/drive/MyDrive/Seventh Semester Project/model/InceptionV3_base_model.h5\n",
            "20/20 [==============================] - 326s 16s/step - loss: 0.6578 - accuracy: 0.7840 - val_loss: 0.9397 - val_accuracy: 0.6959\n",
            "Epoch 26/100\n",
            "20/20 [==============================] - ETA: 0s - loss: 0.7249 - accuracy: 0.7695 \n",
            "Epoch 00026: val_accuracy did not improve from 0.69591\n",
            "20/20 [==============================] - 333s 17s/step - loss: 0.7249 - accuracy: 0.7695 - val_loss: 1.1841 - val_accuracy: 0.6380\n",
            "Epoch 27/100\n",
            "20/20 [==============================] - ETA: 0s - loss: 0.7192 - accuracy: 0.7717 \n",
            "Epoch 00027: val_accuracy did not improve from 0.69591\n",
            "20/20 [==============================] - 323s 16s/step - loss: 0.7192 - accuracy: 0.7717 - val_loss: 1.1163 - val_accuracy: 0.6448\n",
            "Epoch 28/100\n",
            "20/20 [==============================] - ETA: 0s - loss: 0.7277 - accuracy: 0.7718 \n",
            "Epoch 00028: val_accuracy did not improve from 0.69591\n",
            "20/20 [==============================] - 318s 16s/step - loss: 0.7277 - accuracy: 0.7718 - val_loss: 1.2576 - val_accuracy: 0.6273\n",
            "Epoch 29/100\n",
            "20/20 [==============================] - ETA: 0s - loss: 0.7446 - accuracy: 0.7696 \n",
            "Epoch 00029: val_accuracy did not improve from 0.69591\n",
            "20/20 [==============================] - 326s 16s/step - loss: 0.7446 - accuracy: 0.7696 - val_loss: 1.1864 - val_accuracy: 0.6469\n",
            "Epoch 30/100\n",
            "20/20 [==============================] - ETA: 0s - loss: 0.7783 - accuracy: 0.7731 \n",
            "Epoch 00030: val_accuracy did not improve from 0.69591\n",
            "20/20 [==============================] - 325s 16s/step - loss: 0.7783 - accuracy: 0.7731 - val_loss: 1.6097 - val_accuracy: 0.5605\n",
            "Epoch 31/100\n",
            "20/20 [==============================] - ETA: 0s - loss: 0.9302 - accuracy: 0.7526 \n",
            "Epoch 00031: val_accuracy did not improve from 0.69591\n",
            "20/20 [==============================] - 326s 16s/step - loss: 0.9302 - accuracy: 0.7526 - val_loss: 1.1812 - val_accuracy: 0.6635\n",
            "Epoch 32/100\n",
            "20/20 [==============================] - ETA: 0s - loss: 0.7954 - accuracy: 0.7674 \n",
            "Epoch 00032: val_accuracy did not improve from 0.69591\n",
            "20/20 [==============================] - 326s 16s/step - loss: 0.7954 - accuracy: 0.7674 - val_loss: 1.1741 - val_accuracy: 0.6597\n",
            "Epoch 33/100\n",
            "20/20 [==============================] - ETA: 0s - loss: 0.6529 - accuracy: 0.7930 \n",
            "Epoch 00033: val_accuracy did not improve from 0.69591\n",
            "20/20 [==============================] - 324s 16s/step - loss: 0.6529 - accuracy: 0.7930 - val_loss: 1.0594 - val_accuracy: 0.6670\n",
            "Epoch 34/100\n",
            "20/20 [==============================] - ETA: 0s - loss: 0.6270 - accuracy: 0.7964 \n",
            "Epoch 00034: val_accuracy did not improve from 0.69591\n",
            "20/20 [==============================] - 341s 17s/step - loss: 0.6270 - accuracy: 0.7964 - val_loss: 1.0478 - val_accuracy: 0.6738\n",
            "Epoch 35/100\n",
            "20/20 [==============================] - ETA: 0s - loss: 0.6102 - accuracy: 0.7982 \n",
            "Epoch 00035: val_accuracy did not improve from 0.69591\n",
            "20/20 [==============================] - 344s 17s/step - loss: 0.6102 - accuracy: 0.7982 - val_loss: 1.0646 - val_accuracy: 0.6665\n",
            "Epoch 00035: early stopping\n"
          ]
        }
      ]
    }
  ]
}