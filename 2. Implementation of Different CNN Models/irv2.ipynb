{
  "nbformat": 4,
  "nbformat_minor": 0,
  "metadata": {
    "colab": {
      "name": "irv2*.ipynb",
      "provenance": [],
      "machine_shape": "hm"
    },
    "kernelspec": {
      "name": "python3",
      "display_name": "Python 3"
    },
    "language_info": {
      "name": "python"
    },
    "accelerator": "TPU"
  },
  "cells": [
    {
      "cell_type": "code",
      "execution_count": null,
      "metadata": {
        "colab": {
          "base_uri": "https://localhost:8080/"
        },
        "id": "vXsc39rYeHsk",
        "outputId": "775dc7be-3340-4856-cb72-cb812b7ef901"
      },
      "outputs": [
        {
          "output_type": "stream",
          "name": "stdout",
          "text": [
            "Requirement already satisfied: tensorflow-gpu in /usr/local/lib/python3.7/dist-packages (2.7.0)\n",
            "Requirement already satisfied: tensorflow-estimator<2.8,~=2.7.0rc0 in /usr/local/lib/python3.7/dist-packages (from tensorflow-gpu) (2.7.0)\n",
            "Requirement already satisfied: flatbuffers<3.0,>=1.12 in /usr/local/lib/python3.7/dist-packages (from tensorflow-gpu) (2.0)\n",
            "Requirement already satisfied: opt-einsum>=2.3.2 in /usr/local/lib/python3.7/dist-packages (from tensorflow-gpu) (3.3.0)\n",
            "Requirement already satisfied: grpcio<2.0,>=1.24.3 in /usr/local/lib/python3.7/dist-packages (from tensorflow-gpu) (1.42.0)\n",
            "Requirement already satisfied: typing-extensions>=3.6.6 in /usr/local/lib/python3.7/dist-packages (from tensorflow-gpu) (3.10.0.2)\n",
            "Requirement already satisfied: keras<2.8,>=2.7.0rc0 in /usr/local/lib/python3.7/dist-packages (from tensorflow-gpu) (2.7.0)\n",
            "Requirement already satisfied: google-pasta>=0.1.1 in /usr/local/lib/python3.7/dist-packages (from tensorflow-gpu) (0.2.0)\n",
            "Requirement already satisfied: libclang>=9.0.1 in /usr/local/lib/python3.7/dist-packages (from tensorflow-gpu) (12.0.0)\n",
            "Requirement already satisfied: astunparse>=1.6.0 in /usr/local/lib/python3.7/dist-packages (from tensorflow-gpu) (1.6.3)\n",
            "Requirement already satisfied: keras-preprocessing>=1.1.1 in /usr/local/lib/python3.7/dist-packages (from tensorflow-gpu) (1.1.2)\n",
            "Requirement already satisfied: termcolor>=1.1.0 in /usr/local/lib/python3.7/dist-packages (from tensorflow-gpu) (1.1.0)\n",
            "Requirement already satisfied: numpy>=1.14.5 in /usr/local/lib/python3.7/dist-packages (from tensorflow-gpu) (1.19.5)\n",
            "Requirement already satisfied: wheel<1.0,>=0.32.0 in /usr/local/lib/python3.7/dist-packages (from tensorflow-gpu) (0.37.0)\n",
            "Requirement already satisfied: tensorflow-io-gcs-filesystem>=0.21.0 in /usr/local/lib/python3.7/dist-packages (from tensorflow-gpu) (0.22.0)\n",
            "Requirement already satisfied: tensorboard~=2.6 in /usr/local/lib/python3.7/dist-packages (from tensorflow-gpu) (2.7.0)\n",
            "Requirement already satisfied: h5py>=2.9.0 in /usr/local/lib/python3.7/dist-packages (from tensorflow-gpu) (3.1.0)\n",
            "Requirement already satisfied: six>=1.12.0 in /usr/local/lib/python3.7/dist-packages (from tensorflow-gpu) (1.15.0)\n",
            "Requirement already satisfied: wrapt>=1.11.0 in /usr/local/lib/python3.7/dist-packages (from tensorflow-gpu) (1.13.3)\n",
            "Requirement already satisfied: gast<0.5.0,>=0.2.1 in /usr/local/lib/python3.7/dist-packages (from tensorflow-gpu) (0.4.0)\n",
            "Requirement already satisfied: protobuf>=3.9.2 in /usr/local/lib/python3.7/dist-packages (from tensorflow-gpu) (3.17.3)\n",
            "Requirement already satisfied: absl-py>=0.4.0 in /usr/local/lib/python3.7/dist-packages (from tensorflow-gpu) (0.12.0)\n",
            "Requirement already satisfied: cached-property in /usr/local/lib/python3.7/dist-packages (from h5py>=2.9.0->tensorflow-gpu) (1.5.2)\n",
            "Requirement already satisfied: markdown>=2.6.8 in /usr/local/lib/python3.7/dist-packages (from tensorboard~=2.6->tensorflow-gpu) (3.3.6)\n",
            "Requirement already satisfied: tensorboard-data-server<0.7.0,>=0.6.0 in /usr/local/lib/python3.7/dist-packages (from tensorboard~=2.6->tensorflow-gpu) (0.6.1)\n",
            "Requirement already satisfied: requests<3,>=2.21.0 in /usr/local/lib/python3.7/dist-packages (from tensorboard~=2.6->tensorflow-gpu) (2.23.0)\n",
            "Requirement already satisfied: google-auth<3,>=1.6.3 in /usr/local/lib/python3.7/dist-packages (from tensorboard~=2.6->tensorflow-gpu) (1.35.0)\n",
            "Requirement already satisfied: tensorboard-plugin-wit>=1.6.0 in /usr/local/lib/python3.7/dist-packages (from tensorboard~=2.6->tensorflow-gpu) (1.8.0)\n",
            "Requirement already satisfied: setuptools>=41.0.0 in /usr/local/lib/python3.7/dist-packages (from tensorboard~=2.6->tensorflow-gpu) (57.4.0)\n",
            "Requirement already satisfied: google-auth-oauthlib<0.5,>=0.4.1 in /usr/local/lib/python3.7/dist-packages (from tensorboard~=2.6->tensorflow-gpu) (0.4.6)\n",
            "Requirement already satisfied: werkzeug>=0.11.15 in /usr/local/lib/python3.7/dist-packages (from tensorboard~=2.6->tensorflow-gpu) (1.0.1)\n",
            "Requirement already satisfied: rsa<5,>=3.1.4 in /usr/local/lib/python3.7/dist-packages (from google-auth<3,>=1.6.3->tensorboard~=2.6->tensorflow-gpu) (4.8)\n",
            "Requirement already satisfied: pyasn1-modules>=0.2.1 in /usr/local/lib/python3.7/dist-packages (from google-auth<3,>=1.6.3->tensorboard~=2.6->tensorflow-gpu) (0.2.8)\n",
            "Requirement already satisfied: cachetools<5.0,>=2.0.0 in /usr/local/lib/python3.7/dist-packages (from google-auth<3,>=1.6.3->tensorboard~=2.6->tensorflow-gpu) (4.2.4)\n",
            "Requirement already satisfied: requests-oauthlib>=0.7.0 in /usr/local/lib/python3.7/dist-packages (from google-auth-oauthlib<0.5,>=0.4.1->tensorboard~=2.6->tensorflow-gpu) (1.3.0)\n",
            "Requirement already satisfied: importlib-metadata>=4.4 in /usr/local/lib/python3.7/dist-packages (from markdown>=2.6.8->tensorboard~=2.6->tensorflow-gpu) (4.8.2)\n",
            "Requirement already satisfied: zipp>=0.5 in /usr/local/lib/python3.7/dist-packages (from importlib-metadata>=4.4->markdown>=2.6.8->tensorboard~=2.6->tensorflow-gpu) (3.6.0)\n",
            "Requirement already satisfied: pyasn1<0.5.0,>=0.4.6 in /usr/local/lib/python3.7/dist-packages (from pyasn1-modules>=0.2.1->google-auth<3,>=1.6.3->tensorboard~=2.6->tensorflow-gpu) (0.4.8)\n",
            "Requirement already satisfied: chardet<4,>=3.0.2 in /usr/local/lib/python3.7/dist-packages (from requests<3,>=2.21.0->tensorboard~=2.6->tensorflow-gpu) (3.0.4)\n",
            "Requirement already satisfied: urllib3!=1.25.0,!=1.25.1,<1.26,>=1.21.1 in /usr/local/lib/python3.7/dist-packages (from requests<3,>=2.21.0->tensorboard~=2.6->tensorflow-gpu) (1.24.3)\n",
            "Requirement already satisfied: idna<3,>=2.5 in /usr/local/lib/python3.7/dist-packages (from requests<3,>=2.21.0->tensorboard~=2.6->tensorflow-gpu) (2.10)\n",
            "Requirement already satisfied: certifi>=2017.4.17 in /usr/local/lib/python3.7/dist-packages (from requests<3,>=2.21.0->tensorboard~=2.6->tensorflow-gpu) (2021.10.8)\n",
            "Requirement already satisfied: oauthlib>=3.0.0 in /usr/local/lib/python3.7/dist-packages (from requests-oauthlib>=0.7.0->google-auth-oauthlib<0.5,>=0.4.1->tensorboard~=2.6->tensorflow-gpu) (3.1.1)\n"
          ]
        }
      ],
      "source": [
        "!pip install tensorflow-gpu"
      ]
    },
    {
      "cell_type": "code",
      "source": [
        "from google.colab import drive\n",
        "drive.mount('/content/drive')"
      ],
      "metadata": {
        "colab": {
          "base_uri": "https://localhost:8080/"
        },
        "id": "B_EWHe6Jf00Q",
        "outputId": "6788cd73-36bb-48a4-88ea-0122c1203968"
      },
      "execution_count": null,
      "outputs": [
        {
          "output_type": "stream",
          "name": "stdout",
          "text": [
            "Drive already mounted at /content/drive; to attempt to forcibly remount, call drive.mount(\"/content/drive\", force_remount=True).\n"
          ]
        }
      ]
    },
    {
      "cell_type": "code",
      "source": [
        "import tensorflow as tf"
      ],
      "metadata": {
        "id": "Ks4_aeg2f8RI"
      },
      "execution_count": null,
      "outputs": []
    },
    {
      "cell_type": "code",
      "source": [
        "import numpy as np\n",
        "import os\n",
        "from tensorflow.keras.models import load_model, Sequential, Model\n",
        "from tensorflow.keras.layers import Dense, Conv2D, BatchNormalization, Dropout, Flatten, Activation\n",
        "from tensorflow.keras.preprocessing.image import ImageDataGenerator\n",
        "from tensorflow.keras.callbacks import EarlyStopping, ReduceLROnPlateau, LearningRateScheduler, ModelCheckpoint\n",
        "from tensorflow.keras.preprocessing.image import load_img, img_to_array\n",
        "from glob import glob\n",
        "import matplotlib.pyplot as plt\n",
        "%matplotlib inline"
      ],
      "metadata": {
        "id": "f0TIAV8Df_E_"
      },
      "execution_count": null,
      "outputs": []
    },
    {
      "cell_type": "code",
      "source": [
        "train_path ='/content/drive/MyDrive/Seventh Semester Project/Datasets/Train'\n",
        "valid_path = '/content/drive/MyDrive/Seventh Semester Project/Datasets/Validate'\n",
        "test_path = '/content/drive/MyDrive/Seventh Semester Project/Datasets/Test'\n",
        "Img_size = [224, 224]\n",
        "batch_size = 512"
      ],
      "metadata": {
        "id": "4d0X5WoqgdRY"
      },
      "execution_count": null,
      "outputs": []
    },
    {
      "cell_type": "code",
      "source": [
        "## Data Augmentation\n",
        "\n",
        "train_generator =ImageDataGenerator(rescale = 1/255,\n",
        "                                   horizontal_flip=True,\n",
        "                                   vertical_flip=True,\n",
        "                                   zoom_range=0.2,\n",
        "                                   shear_range=0.2,\n",
        "                                   rotation_range=30,\n",
        "                                   fill_mode='nearest')\n",
        "valid_generator = ImageDataGenerator(rescale= 1/255)\n",
        "test_generator = ImageDataGenerator(rescale = 1/ 255)"
      ],
      "metadata": {
        "id": "hg24UcQxg9yW"
      },
      "execution_count": null,
      "outputs": []
    },
    {
      "cell_type": "code",
      "source": [
        "# Dataset \n",
        "\n",
        "train_datset = train_generator.flow_from_directory(directory=train_path,\n",
        "                                                   target_size= Img_size,\n",
        "                                                   class_mode = 'sparse',\n",
        "                                                   batch_size = batch_size,\n",
        "                                                   color_mode = 'rgb', )\n",
        "\n",
        "valid_datset = train_generator.flow_from_directory(directory=valid_path,\n",
        "                                                   target_size= Img_size,\n",
        "                                                   class_mode = 'sparse',\n",
        "                                                   batch_size = batch_size,\n",
        "                                                   color_mode = 'rgb', )\n",
        "\n",
        "test_datset = train_generator.flow_from_directory(directory=test_path,\n",
        "                                                   target_size= Img_size,\n",
        "                                                   class_mode = 'sparse',\n",
        "                                                   batch_size = batch_size,\n",
        "                                                   color_mode = 'rgb', )"
      ],
      "metadata": {
        "colab": {
          "base_uri": "https://localhost:8080/"
        },
        "id": "XHs6jGsshEDf",
        "outputId": "dfd7701e-d89e-4825-8de1-8dae511a3bfa"
      },
      "execution_count": null,
      "outputs": [
        {
          "output_type": "stream",
          "name": "stdout",
          "text": [
            "Found 10081 images belonging to 10 classes.\n",
            "Found 2348 images belonging to 10 classes.\n",
            "Found 2029 images belonging to 10 classes.\n"
          ]
        }
      ]
    },
    {
      "cell_type": "code",
      "source": [
        "from tensorflow.keras.applications.inception_resnet_v2 import InceptionResNetV2"
      ],
      "metadata": {
        "id": "CjeegPachIBv"
      },
      "execution_count": null,
      "outputs": []
    },
    {
      "cell_type": "code",
      "source": [
        " base_model = InceptionResNetV2(include_top=False, input_shape=Img_size +[3], weights='imagenet')"
      ],
      "metadata": {
        "id": "dVun2OnjhyxP"
      },
      "execution_count": null,
      "outputs": []
    },
    {
      "cell_type": "code",
      "source": [
        "for layer in base_model.layers:\n",
        "  layer.trainable = False"
      ],
      "metadata": {
        "id": "wGcUqm_uiAiI"
      },
      "execution_count": null,
      "outputs": []
    },
    {
      "cell_type": "code",
      "source": [
        "model=Sequential()\n",
        "model.add(base_model)\n",
        "#model.add(Dropout(0.5))\n",
        "model.add(Flatten())\n",
        "model.add(Dense(10,activation='softmax'))"
      ],
      "metadata": {
        "id": "nVrklmlOmQC_"
      },
      "execution_count": null,
      "outputs": []
    },
    {
      "cell_type": "code",
      "source": [
        "model.summary()"
      ],
      "metadata": {
        "colab": {
          "base_uri": "https://localhost:8080/"
        },
        "id": "8ye7kRvGiLPn",
        "outputId": "7d687b3e-7540-437d-9294-c428ec24b310"
      },
      "execution_count": null,
      "outputs": [
        {
          "output_type": "stream",
          "name": "stdout",
          "text": [
            "Model: \"sequential_1\"\n",
            "_________________________________________________________________\n",
            " Layer (type)                Output Shape              Param #   \n",
            "=================================================================\n",
            " inception_resnet_v2 (Functi  (None, 5, 5, 1536)       54336736  \n",
            " onal)                                                           \n",
            "                                                                 \n",
            " flatten (Flatten)           (None, 38400)             0         \n",
            "                                                                 \n",
            " dense_1 (Dense)             (None, 225)               8640225   \n",
            "                                                                 \n",
            "=================================================================\n",
            "Total params: 62,976,961\n",
            "Trainable params: 8,640,225\n",
            "Non-trainable params: 54,336,736\n",
            "_________________________________________________________________\n"
          ]
        }
      ]
    },
    {
      "cell_type": "code",
      "source": [
        "opt=tf.keras.optimizers.Adam(lr=0.001)\n",
        "\n",
        "model.compile(loss='sparse_categorical_crossentropy',\n",
        "              metrics=['accuracy'],\n",
        "              optimizer=opt)"
      ],
      "metadata": {
        "colab": {
          "base_uri": "https://localhost:8080/"
        },
        "id": "loi4HoCfiZVv",
        "outputId": "2fe0b652-60e1-4fe0-c444-0a91cc0946a4"
      },
      "execution_count": null,
      "outputs": [
        {
          "output_type": "stream",
          "name": "stderr",
          "text": [
            "/usr/local/lib/python3.7/dist-packages/keras/optimizer_v2/adam.py:105: UserWarning: The `lr` argument is deprecated, use `learning_rate` instead.\n",
            "  super(Adam, self).__init__(name, **kwargs)\n"
          ]
        }
      ]
    },
    {
      "cell_type": "code",
      "source": [
        "# Here Early stopping callback is added for unnecessary running of epochs if model performance is poor \n",
        "filepath = '/content/drive/MyDrive/Seventh Semester Project/model/IRv2_base_model.h5'\n",
        "\n",
        "earlystopping = EarlyStopping(monitor = 'val_accuracy', \n",
        "                              mode = 'max' , \n",
        "                              patience = 10,\n",
        "                              verbose = 1)\n",
        "\n",
        "# for saving best model till execution\n",
        "checkpoint    = ModelCheckpoint(filepath, \n",
        "                                monitor = 'val_accuracy', \n",
        "                                mode='max', \n",
        "                                save_best_only=True, \n",
        "                                verbose = 1)\n",
        "\n",
        "callback_list = [earlystopping, checkpoint]"
      ],
      "metadata": {
        "id": "n5KGiCd0if-f"
      },
      "execution_count": null,
      "outputs": []
    },
    {
      "cell_type": "code",
      "source": [
        "result = model.fit(train_datset, \n",
        "                   validation_data=valid_datset, \n",
        "                   epochs = 100,\n",
        "                   callbacks = callback_list)\n",
        "                    #verbose= 1)"
      ],
      "metadata": {
        "colab": {
          "base_uri": "https://localhost:8080/"
        },
        "id": "BSfNeJ_gik5X",
        "outputId": "f31acb94-fb94-40e7-b2d9-b140e9320054"
      },
      "execution_count": null,
      "outputs": [
        {
          "output_type": "stream",
          "name": "stdout",
          "text": [
            "Epoch 1/100\n",
            "20/20 [==============================] - ETA: 0s - loss: 7.3675 - accuracy: 0.2855  \n",
            "Epoch 00001: val_accuracy improved from -inf to 0.37819, saving model to /content/drive/MyDrive/Seventh Semester Project/model/IRv2_base_model.h5\n",
            "20/20 [==============================] - 1981s 100s/step - loss: 7.3675 - accuracy: 0.2855 - val_loss: 3.5442 - val_accuracy: 0.3782\n",
            "Epoch 2/100\n",
            "20/20 [==============================] - ETA: 0s - loss: 2.3307 - accuracy: 0.5527 \n",
            "Epoch 00002: val_accuracy improved from 0.37819 to 0.44591, saving model to /content/drive/MyDrive/Seventh Semester Project/model/IRv2_base_model.h5\n",
            "20/20 [==============================] - 534s 27s/step - loss: 2.3307 - accuracy: 0.5527 - val_loss: 2.1240 - val_accuracy: 0.4459\n",
            "Epoch 3/100\n",
            "20/20 [==============================] - ETA: 0s - loss: 1.3720 - accuracy: 0.6092 \n",
            "Epoch 00003: val_accuracy improved from 0.44591 to 0.48083, saving model to /content/drive/MyDrive/Seventh Semester Project/model/IRv2_base_model.h5\n",
            "20/20 [==============================] - 516s 26s/step - loss: 1.3720 - accuracy: 0.6092 - val_loss: 1.6549 - val_accuracy: 0.4808\n",
            "Epoch 4/100\n",
            "20/20 [==============================] - ETA: 0s - loss: 1.0347 - accuracy: 0.6630 \n",
            "Epoch 00004: val_accuracy improved from 0.48083 to 0.54983, saving model to /content/drive/MyDrive/Seventh Semester Project/model/IRv2_base_model.h5\n",
            "20/20 [==============================] - 511s 26s/step - loss: 1.0347 - accuracy: 0.6630 - val_loss: 1.3350 - val_accuracy: 0.5498\n",
            "Epoch 5/100\n",
            "20/20 [==============================] - ETA: 0s - loss: 0.9124 - accuracy: 0.6879 \n",
            "Epoch 00005: val_accuracy improved from 0.54983 to 0.59881, saving model to /content/drive/MyDrive/Seventh Semester Project/model/IRv2_base_model.h5\n",
            "20/20 [==============================] - 492s 25s/step - loss: 0.9124 - accuracy: 0.6879 - val_loss: 1.1840 - val_accuracy: 0.5988\n",
            "Epoch 6/100\n",
            "20/20 [==============================] - ETA: 0s - loss: 0.8917 - accuracy: 0.6891 \n",
            "Epoch 00006: val_accuracy did not improve from 0.59881\n",
            "20/20 [==============================] - 496s 25s/step - loss: 0.8917 - accuracy: 0.6891 - val_loss: 1.2538 - val_accuracy: 0.5656\n",
            "Epoch 7/100\n",
            "20/20 [==============================] - ETA: 0s - loss: 0.8657 - accuracy: 0.7007 \n",
            "Epoch 00007: val_accuracy did not improve from 0.59881\n",
            "20/20 [==============================] - 503s 25s/step - loss: 0.8657 - accuracy: 0.7007 - val_loss: 1.2081 - val_accuracy: 0.5916\n",
            "Epoch 8/100\n",
            "20/20 [==============================] - ETA: 0s - loss: 0.9305 - accuracy: 0.6958 \n",
            "Epoch 00008: val_accuracy did not improve from 0.59881\n",
            "20/20 [==============================] - 512s 26s/step - loss: 0.9305 - accuracy: 0.6958 - val_loss: 1.2782 - val_accuracy: 0.5835\n",
            "Epoch 9/100\n",
            "20/20 [==============================] - ETA: 0s - loss: 0.7909 - accuracy: 0.7273 \n",
            "Epoch 00009: val_accuracy improved from 0.59881 to 0.60690, saving model to /content/drive/MyDrive/Seventh Semester Project/model/IRv2_base_model.h5\n",
            "20/20 [==============================] - 514s 26s/step - loss: 0.7909 - accuracy: 0.7273 - val_loss: 1.1701 - val_accuracy: 0.6069\n",
            "Epoch 10/100\n",
            "20/20 [==============================] - ETA: 0s - loss: 0.8182 - accuracy: 0.7223 \n",
            "Epoch 00010: val_accuracy did not improve from 0.60690\n",
            "20/20 [==============================] - 492s 25s/step - loss: 0.8182 - accuracy: 0.7223 - val_loss: 1.1898 - val_accuracy: 0.6022\n",
            "Epoch 11/100\n",
            "20/20 [==============================] - ETA: 0s - loss: 0.8464 - accuracy: 0.7234 \n",
            "Epoch 00011: val_accuracy did not improve from 0.60690\n",
            "20/20 [==============================] - 495s 25s/step - loss: 0.8464 - accuracy: 0.7234 - val_loss: 1.3214 - val_accuracy: 0.5733\n",
            "Epoch 12/100\n",
            "20/20 [==============================] - ETA: 0s - loss: 0.7858 - accuracy: 0.7408 \n",
            "Epoch 00012: val_accuracy improved from 0.60690 to 0.62181, saving model to /content/drive/MyDrive/Seventh Semester Project/model/IRv2_base_model.h5\n",
            "20/20 [==============================] - 500s 25s/step - loss: 0.7858 - accuracy: 0.7408 - val_loss: 1.0874 - val_accuracy: 0.6218\n",
            "Epoch 13/100\n",
            "20/20 [==============================] - ETA: 0s - loss: 0.7491 - accuracy: 0.7509 \n",
            "Epoch 00013: val_accuracy did not improve from 0.62181\n",
            "20/20 [==============================] - 484s 24s/step - loss: 0.7491 - accuracy: 0.7509 - val_loss: 1.3059 - val_accuracy: 0.6073\n",
            "Epoch 14/100\n",
            "20/20 [==============================] - ETA: 0s - loss: 0.8021 - accuracy: 0.7405 \n",
            "Epoch 00014: val_accuracy improved from 0.62181 to 0.62521, saving model to /content/drive/MyDrive/Seventh Semester Project/model/IRv2_base_model.h5\n",
            "20/20 [==============================] - 481s 24s/step - loss: 0.8021 - accuracy: 0.7405 - val_loss: 1.1790 - val_accuracy: 0.6252\n",
            "Epoch 15/100\n",
            "20/20 [==============================] - ETA: 0s - loss: 0.7247 - accuracy: 0.7622 \n",
            "Epoch 00015: val_accuracy improved from 0.62521 to 0.65545, saving model to /content/drive/MyDrive/Seventh Semester Project/model/IRv2_base_model.h5\n",
            "20/20 [==============================] - 490s 25s/step - loss: 0.7247 - accuracy: 0.7622 - val_loss: 0.9765 - val_accuracy: 0.6555\n",
            "Epoch 16/100\n",
            "20/20 [==============================] - ETA: 0s - loss: 0.6668 - accuracy: 0.7646 \n",
            "Epoch 00016: val_accuracy improved from 0.65545 to 0.66354, saving model to /content/drive/MyDrive/Seventh Semester Project/model/IRv2_base_model.h5\n",
            "20/20 [==============================] - 483s 24s/step - loss: 0.6668 - accuracy: 0.7646 - val_loss: 1.0172 - val_accuracy: 0.6635\n",
            "Epoch 17/100\n",
            "20/20 [==============================] - ETA: 0s - loss: 0.6857 - accuracy: 0.7689 \n",
            "Epoch 00017: val_accuracy did not improve from 0.66354\n",
            "20/20 [==============================] - 459s 23s/step - loss: 0.6857 - accuracy: 0.7689 - val_loss: 1.0759 - val_accuracy: 0.6282\n",
            "Epoch 18/100\n",
            "20/20 [==============================] - ETA: 0s - loss: 0.6733 - accuracy: 0.7647 \n",
            "Epoch 00018: val_accuracy did not improve from 0.66354\n",
            "20/20 [==============================] - 461s 23s/step - loss: 0.6733 - accuracy: 0.7647 - val_loss: 1.1561 - val_accuracy: 0.6235\n",
            "Epoch 19/100\n",
            "20/20 [==============================] - ETA: 0s - loss: 0.6143 - accuracy: 0.7847 \n",
            "Epoch 00019: val_accuracy did not improve from 0.66354\n",
            "20/20 [==============================] - 460s 23s/step - loss: 0.6143 - accuracy: 0.7847 - val_loss: 1.0248 - val_accuracy: 0.6520\n",
            "Epoch 20/100\n",
            "20/20 [==============================] - ETA: 0s - loss: 0.6165 - accuracy: 0.7876 \n",
            "Epoch 00020: val_accuracy did not improve from 0.66354\n",
            "20/20 [==============================] - 408s 20s/step - loss: 0.6165 - accuracy: 0.7876 - val_loss: 1.0722 - val_accuracy: 0.6393\n",
            "Epoch 21/100\n",
            "20/20 [==============================] - ETA: 0s - loss: 0.6213 - accuracy: 0.7852 \n",
            "Epoch 00021: val_accuracy did not improve from 0.66354\n",
            "20/20 [==============================] - 399s 20s/step - loss: 0.6213 - accuracy: 0.7852 - val_loss: 0.9993 - val_accuracy: 0.6635\n",
            "Epoch 22/100\n",
            "20/20 [==============================] - ETA: 0s - loss: 0.5897 - accuracy: 0.7962 \n",
            "Epoch 00022: val_accuracy improved from 0.66354 to 0.67547, saving model to /content/drive/MyDrive/Seventh Semester Project/model/IRv2_base_model.h5\n",
            "20/20 [==============================] - 420s 21s/step - loss: 0.5897 - accuracy: 0.7962 - val_loss: 1.0304 - val_accuracy: 0.6755\n",
            "Epoch 23/100\n",
            "20/20 [==============================] - ETA: 0s - loss: 0.6730 - accuracy: 0.7739 \n",
            "Epoch 00023: val_accuracy did not improve from 0.67547\n",
            "20/20 [==============================] - 407s 20s/step - loss: 0.6730 - accuracy: 0.7739 - val_loss: 1.1264 - val_accuracy: 0.6384\n",
            "Epoch 24/100\n",
            "20/20 [==============================] - ETA: 0s - loss: 0.5694 - accuracy: 0.8018 \n",
            "Epoch 00024: val_accuracy did not improve from 0.67547\n",
            "20/20 [==============================] - 425s 21s/step - loss: 0.5694 - accuracy: 0.8018 - val_loss: 0.9536 - val_accuracy: 0.6678\n",
            "Epoch 25/100\n",
            "20/20 [==============================] - ETA: 0s - loss: 0.5749 - accuracy: 0.8028 \n",
            "Epoch 00025: val_accuracy did not improve from 0.67547\n",
            "20/20 [==============================] - 409s 21s/step - loss: 0.5749 - accuracy: 0.8028 - val_loss: 0.9892 - val_accuracy: 0.6691\n",
            "Epoch 26/100\n",
            "20/20 [==============================] - ETA: 0s - loss: 0.5852 - accuracy: 0.8034 \n",
            "Epoch 00026: val_accuracy improved from 0.67547 to 0.68399, saving model to /content/drive/MyDrive/Seventh Semester Project/model/IRv2_base_model.h5\n",
            "20/20 [==============================] - 409s 21s/step - loss: 0.5852 - accuracy: 0.8034 - val_loss: 0.9589 - val_accuracy: 0.6840\n",
            "Epoch 27/100\n",
            "20/20 [==============================] - ETA: 0s - loss: 0.6257 - accuracy: 0.7905 \n",
            "Epoch 00027: val_accuracy improved from 0.68399 to 0.70741, saving model to /content/drive/MyDrive/Seventh Semester Project/model/IRv2_base_model.h5\n",
            "20/20 [==============================] - 420s 21s/step - loss: 0.6257 - accuracy: 0.7905 - val_loss: 0.8657 - val_accuracy: 0.7074\n",
            "Epoch 28/100\n",
            "20/20 [==============================] - ETA: 0s - loss: 0.5923 - accuracy: 0.8023 \n",
            "Epoch 00028: val_accuracy did not improve from 0.70741\n",
            "20/20 [==============================] - 413s 21s/step - loss: 0.5923 - accuracy: 0.8023 - val_loss: 1.1296 - val_accuracy: 0.6533\n",
            "Epoch 29/100\n",
            "20/20 [==============================] - ETA: 0s - loss: 0.6412 - accuracy: 0.7910 \n",
            "Epoch 00029: val_accuracy did not improve from 0.70741\n",
            "20/20 [==============================] - 426s 21s/step - loss: 0.6412 - accuracy: 0.7910 - val_loss: 0.9962 - val_accuracy: 0.6882\n",
            "Epoch 30/100\n",
            "20/20 [==============================] - ETA: 0s - loss: 0.5745 - accuracy: 0.8046 \n",
            "Epoch 00030: val_accuracy did not improve from 0.70741\n",
            "20/20 [==============================] - 425s 21s/step - loss: 0.5745 - accuracy: 0.8046 - val_loss: 1.0842 - val_accuracy: 0.6623\n",
            "Epoch 31/100\n",
            "20/20 [==============================] - ETA: 0s - loss: 0.6266 - accuracy: 0.7919 \n",
            "Epoch 00031: val_accuracy did not improve from 0.70741\n",
            "20/20 [==============================] - 421s 21s/step - loss: 0.6266 - accuracy: 0.7919 - val_loss: 1.2521 - val_accuracy: 0.6175\n",
            "Epoch 32/100\n",
            "20/20 [==============================] - ETA: 0s - loss: 0.6418 - accuracy: 0.7930 \n",
            "Epoch 00032: val_accuracy did not improve from 0.70741\n",
            "20/20 [==============================] - 431s 22s/step - loss: 0.6418 - accuracy: 0.7930 - val_loss: 1.1861 - val_accuracy: 0.6503\n",
            "Epoch 33/100\n",
            "20/20 [==============================] - ETA: 0s - loss: 0.6237 - accuracy: 0.7963 \n",
            "Epoch 00033: val_accuracy did not improve from 0.70741\n",
            "20/20 [==============================] - 434s 22s/step - loss: 0.6237 - accuracy: 0.7963 - val_loss: 1.1914 - val_accuracy: 0.6478\n",
            "Epoch 34/100\n",
            "20/20 [==============================] - ETA: 0s - loss: 0.7825 - accuracy: 0.7677 \n",
            "Epoch 00034: val_accuracy did not improve from 0.70741\n",
            "20/20 [==============================] - 455s 23s/step - loss: 0.7825 - accuracy: 0.7677 - val_loss: 1.0908 - val_accuracy: 0.6682\n",
            "Epoch 35/100\n",
            "20/20 [==============================] - ETA: 0s - loss: 0.7388 - accuracy: 0.7788 \n",
            "Epoch 00035: val_accuracy did not improve from 0.70741\n",
            "20/20 [==============================] - 446s 22s/step - loss: 0.7388 - accuracy: 0.7788 - val_loss: 1.4241 - val_accuracy: 0.6137\n",
            "Epoch 36/100\n",
            "20/20 [==============================] - ETA: 0s - loss: 0.7801 - accuracy: 0.7730 \n",
            "Epoch 00036: val_accuracy did not improve from 0.70741\n",
            "20/20 [==============================] - 444s 22s/step - loss: 0.7801 - accuracy: 0.7730 - val_loss: 1.1053 - val_accuracy: 0.6687\n",
            "Epoch 37/100\n",
            "20/20 [==============================] - ETA: 0s - loss: 0.5842 - accuracy: 0.8125 \n",
            "Epoch 00037: val_accuracy did not improve from 0.70741\n",
            "20/20 [==============================] - 463s 24s/step - loss: 0.5842 - accuracy: 0.8125 - val_loss: 1.0262 - val_accuracy: 0.6827\n",
            "Epoch 00037: early stopping\n"
          ]
        }
      ]
    }
  ]
}